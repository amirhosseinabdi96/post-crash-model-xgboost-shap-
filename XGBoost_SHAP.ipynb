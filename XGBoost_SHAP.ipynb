{
 "cells": [
  {
   "cell_type": "code",
   "execution_count": null,
   "metadata": {},
   "outputs": [],
   "source": [
    "import pandas as pd\n",
    "df = pd.read_csv(\".../data.csv\").drop('Unnamed: 0', axis=1)\n",
    "X = df.drop('model...', axis=1)\n",
    "y = df['model...']\n",
    "\n",
    "from sklearn.model_selection import train_test_split\n",
    "X_train, X_test, y_train, y_test = train_test_split(X, y, test_size = 0.2, random_state = 75)\n",
    "\n",
    "\n",
    "#for_classification:\n",
    "# Note: for regression problems, use XGBRegressor()\n",
    "\n",
    "from xgboost import XGBClassifier\n",
    "# please use parameters from the table 4 in the paper \n",
    "params = {\n",
    "            'n_estimators':'binary:logistic':500 ,\n",
    "            'max_depth':6 ,\n",
    "            'Subsample':0.65,\n",
    "            'Colsample_bytree':0.4,\n",
    "            'learning_rate':0.01,\n",
    "            'alpha':0.25 ,\n",
    "            'lambda':1.3 \n",
    "        }\n",
    "            \n",
    "            \n",
    "            \n",
    "# instantiate the classifier \n",
    "xgb_clf = XGBClassifier(**params)\n",
    "\n",
    "# fit the classifier to the training data\n",
    "xgb_clf.fit(X_train, y_train)\n",
    "\n",
    "# alternatively view the parameters of the xgb trained model\n",
    "print(xgb_clf)"
   ]
  },
  {
   "cell_type": "code",
   "execution_count": null,
   "metadata": {},
   "outputs": [],
   "source": [
    "# make predictions on test data\n",
    "y_pred = xgb_clf.predict(X_test)"
   ]
  },
  {
   "cell_type": "code",
   "execution_count": null,
   "metadata": {},
   "outputs": [],
   "source": [
    "import shap\n",
    "\n",
    "# explain the model's predictions using SHAP\n",
    "# please choose suitable arguments for each model\n",
    "\n",
    "X_sampled = X_train.sample(100, random_state=10)\n",
    "explainer = shap.KernelExplainer(xgb_clf, X_train)\n",
    "shap_values = explainer.shap_values(X_sampled)\n",
    "shap.summary_plot(shap_values, X_sampled)"
   ]
  },
  {
   "cell_type": "code",
   "execution_count": null,
   "metadata": {},
   "outputs": [],
   "source": []
  }
 ],
 "metadata": {
  "kernelspec": {
   "display_name": "Python 3",
   "language": "python",
   "name": "python3"
  },
  "language_info": {
   "codemirror_mode": {
    "name": "ipython",
    "version": 3
   },
   "file_extension": ".py",
   "mimetype": "text/x-python",
   "name": "python",
   "nbconvert_exporter": "python",
   "pygments_lexer": "ipython3",
   "version": "3.7.4"
  }
 },
 "nbformat": 4,
 "nbformat_minor": 2
}
